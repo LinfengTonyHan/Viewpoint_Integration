{
 "cells": [
  {
   "cell_type": "code",
   "execution_count": 72,
   "id": "64f8199a-3670-4217-bff6-00d878d44464",
   "metadata": {},
   "outputs": [],
   "source": [
    "# Importing the packages\n",
    "import numpy as np\n",
    "import pandas as pd"
   ]
  },
  {
   "cell_type": "code",
   "execution_count": 73,
   "id": "834aca77-5be4-447c-aea3-5675b512c15e",
   "metadata": {
    "scrolled": true
   },
   "outputs": [],
   "source": [
    "# Load the data file\n",
    "# Condition spreadsheet: Pano_IDN, Pano_JRD, Lmrk_IDN, Lmrk_JRD\n",
    "file_path = 'Behavioral_Data_Full.xlsx'\n",
    "xls = pd.ExcelFile(file_path)\n",
    "\n",
    "sheet_name_condition = \"Conditions\"\n",
    "df_condition = pd.read_excel(file_path, sheet_name = sheet_name_condition)\n",
    "\n",
    "skip_subjects = {\"Subject002\", \"Subject008\", \"Subject016\", \"Subject022\"}\n",
    "\n",
    "all_subject_results = {}\n",
    "\n",
    "# print(cond)"
   ]
  },
  {
   "cell_type": "code",
   "execution_count": 79,
   "id": "577a9dec-ad25-42d6-8f15-8b5df0cea838",
   "metadata": {},
   "outputs": [],
   "source": [
    "# Create a for loop and analyze the data by subject\n",
    "\n",
    "for iteSub in range (1, 29):\n",
    "    sheet_name_subject = f\"Subject{iteSub:03d}\"\n",
    "    # print(sheet_name_subject)\n",
    "\n",
    "    if sheet_name_subject in skip_subjects:\n",
    "        # print(f\"Skipping {sheet_name_subject}\")\n",
    "        continue\n",
    "    \n",
    "    subject_result = {}\n",
    "\n",
    "    # print(f\"Reading sheet: {sheet_name_subject}\")\n",
    "    df_sub = pd.read_excel(xls, sheet_name = sheet_name_subject)\n",
    "\n",
    "    # print(df_sub)\n",
    "    for column in df_sub.columns[:6]:\n",
    "        if column in df_condition.columns:\n",
    "            # print(column)\n",
    "            combined = pd.DataFrame({'Correct': df_sub[column],'Condition':df_condition[column]})\n",
    "            combined = combined.dropna() # Leave out all the NaNs, the numbers of questions aren't consistent\n",
    "            # print(combined)\n",
    "            \n",
    "            accuracy_by_condition = combined.groupby('Condition')['Correct'].mean()\n",
    "            subject_result[column] = accuracy_by_condition\n",
    "\n",
    "    all_subject_results[sheet_name_subject] = subject_result\n",
    "# End of the loop extracting all data\n",
    "\n",
    "# print(all_subject_results)      "
   ]
  },
  {
   "cell_type": "code",
   "execution_count": 83,
   "id": "25fa69f6-aad9-4791-9b6d-5a3969079c61",
   "metadata": {},
   "outputs": [
    {
     "name": "stdout",
     "output_type": "stream",
     "text": [
      "0.0\n"
     ]
    }
   ],
   "source": [
    "# Trying to extract data from all_subject_results\n",
    "# This is a sample code\n",
    "# print(all_subject_results[\"Subject001\"][\"S2\"][\"Lmrk_IDN\"])"
   ]
  },
  {
   "cell_type": "code",
   "execution_count": 93,
   "id": "b97b6bfc-7273-434e-b06c-36e7db857b94",
   "metadata": {},
   "outputs": [],
   "source": [
    "# Create data frames to store all data\n",
    "S2_Lmrk_IDN = []; S2_Pano_IDN = [];\n",
    "S3_Lmrk_IDN = []; S3_Pano_IDN = [];\n",
    "S4_Lmrk_JRD = []; S4_Pano_JRD = [];\n",
    "S5_Lmrk_JRD = []; S5_Pano_JRD = [];\n",
    "S6_Lmrk_IDN = []; S6_Pano_IDN = [];\n",
    "S7_Lmrk_IDN = []; S7_Pano_IDN = [];\n",
    "S6_Lmrk_JRD = []; S6_Pano_JRD = [];\n",
    "S7_Lmrk_JRD = []; S7_Pano_JRD = [];"
   ]
  },
  {
   "cell_type": "code",
   "execution_count": 94,
   "id": "a6480deb-0ac5-4a54-b810-a9af0e25df91",
   "metadata": {},
   "outputs": [],
   "source": [
    "# Earlier sessions\n",
    "for iteSub in range (1, 29): # 28 subjects, range ending in 29\n",
    "    subject_name = f\"Subject{iteSub:03d}\"\n",
    "\n",
    "    # Skip the null subjects\n",
    "    if subject_name in skip_subjects:\n",
    "        continue\n",
    "\n",
    "    S2_Lmrk_IDN.append(all_subject_results[subject_name][\"S2\"][\"Lmrk_IDN\"])\n",
    "    S2_Pano_IDN.append(all_subject_results[subject_name][\"S2\"][\"Pano_IDN\"])\n",
    "    S3_Lmrk_IDN.append(all_subject_results[subject_name][\"S3\"][\"Lmrk_IDN\"])\n",
    "    S3_Pano_IDN.append(all_subject_results[subject_name][\"S3\"][\"Pano_IDN\"])\n",
    "    S4_Lmrk_JRD.append(all_subject_results[subject_name][\"S4\"][\"Lmrk_JRD\"])\n",
    "    S4_Pano_JRD.append(all_subject_results[subject_name][\"S4\"][\"Pano_JRD\"])\n",
    "    S5_Lmrk_JRD.append(all_subject_results[subject_name][\"S5\"][\"Lmrk_JRD\"])\n",
    "    S5_Pano_JRD.append(all_subject_results[subject_name][\"S5\"][\"Pano_JRD\"])"
   ]
  },
  {
   "cell_type": "code",
   "execution_count": 95,
   "id": "f513493b-3505-4823-a89f-8abd439b0158",
   "metadata": {},
   "outputs": [],
   "source": [
    "# Later sessions\n",
    "for iteSub in range (1, 29): # 28 subjects, range ending in 29\n",
    "    subject_name = f\"Subject{iteSub:03d}\"\n",
    "\n",
    "    # Skip the null subjects\n",
    "    if subject_name in skip_subjects:\n",
    "        continue\n",
    "\n",
    "    S6_Lmrk_IDN.append(all_subject_results[subject_name][\"S6\"][\"Lmrk_IDN\"])\n",
    "    S6_Pano_IDN.append(all_subject_results[subject_name][\"S6\"][\"Pano_IDN\"])\n",
    "    S7_Lmrk_IDN.append(all_subject_results[subject_name][\"S7\"][\"Lmrk_IDN\"])\n",
    "    S7_Pano_IDN.append(all_subject_results[subject_name][\"S7\"][\"Pano_IDN\"])\n",
    "    S6_Lmrk_JRD.append(all_subject_results[subject_name][\"S6\"][\"Lmrk_JRD\"])\n",
    "    S6_Pano_JRD.append(all_subject_results[subject_name][\"S6\"][\"Pano_JRD\"])\n",
    "    S7_Lmrk_JRD.append(all_subject_results[subject_name][\"S7\"][\"Lmrk_JRD\"])\n",
    "    S7_Pano_JRD.append(all_subject_results[subject_name][\"S7\"][\"Pano_JRD\"])\n",
    "# print(S2_Lmrk_IDN)"
   ]
  },
  {
   "cell_type": "code",
   "execution_count": 96,
   "id": "bcb3cbb7-45ba-4748-8718-73b245a12d53",
   "metadata": {},
   "outputs": [],
   "source": [
    "# Compile all data into a whole data sheet\n",
    "# Identity test data\n",
    "IDN_Pano_data_compiled = {\n",
    "    \"S2_Pano\": S2_Pano_IDN,\n",
    "    \"S3_Pano\": S3_Pano_IDN,\n",
    "    \"S6_Pano\": S6_Pano_IDN,\n",
    "    \"S7_Pano\": S7_Pano_IDN\n",
    "}\n",
    "df_IDN_Pano = pd.DataFrame(IDN_Pano_data_compiled)\n",
    "\n",
    "IDN_Lmrk_data_compiled = {\n",
    "    \"S2_Lmrk\": S2_Lmrk_IDN,\n",
    "    \"S3_Lmrk\": S3_Lmrk_IDN,\n",
    "    \"S6_Lmrk\": S6_Lmrk_IDN,\n",
    "    \"S7_Lmrk\": S7_Lmrk_IDN\n",
    "}\n",
    "df_IDN_Lmrk = pd.DataFrame(IDN_Lmrk_data_compiled)"
   ]
  },
  {
   "cell_type": "code",
   "execution_count": 97,
   "id": "a2dda4e5-1150-4a7d-ba7d-dcdf228c3bda",
   "metadata": {},
   "outputs": [],
   "source": [
    "# Compile all data into a whole data sheet\n",
    "# Direction test data\n",
    "JRD_Pano_data_compiled = {\n",
    "    \"S4_Pano\": S4_Pano_JRD,\n",
    "    \"S5_Pano\": S5_Pano_JRD,\n",
    "    \"S6_Pano\": S6_Pano_JRD,\n",
    "    \"S7_Pano\": S7_Pano_JRD\n",
    "}\n",
    "df_JRD_Pano = pd.DataFrame(JRD_Pano_data_compiled)\n",
    "\n",
    "JRD_Lmrk_data_compiled = {\n",
    "    \"S4_Lmrk\": S4_Lmrk_JRD,\n",
    "    \"S5_Lmrk\": S5_Lmrk_JRD,\n",
    "    \"S6_Lmrk\": S6_Lmrk_JRD,\n",
    "    \"S7_Lmrk\": S7_Lmrk_JRD\n",
    "}\n",
    "df_JRD_Lmrk = pd.DataFrame(JRD_Lmrk_data_compiled)"
   ]
  },
  {
   "cell_type": "code",
   "execution_count": 98,
   "id": "58608b6c-3f08-4fd5-9f55-1b4a5253f88b",
   "metadata": {},
   "outputs": [],
   "source": [
    "# Write data into .csv files\n",
    "df_IDN_Pano.to_csv(\"IDN_Pano.csv\", index = False)\n",
    "df_IDN_Lmrk.to_csv(\"IDN_Lmrk.csv\", index = False)\n",
    "df_JRD_Pano.to_csv(\"JRD_Pano.csv\", index = False)\n",
    "df_JRD_Lmrk.to_csv(\"JRD_Lmrk.csv\", index = False)"
   ]
  },
  {
   "cell_type": "code",
   "execution_count": null,
   "id": "fe53f712-8425-4527-96cf-09c9146d969d",
   "metadata": {},
   "outputs": [],
   "source": []
  }
 ],
 "metadata": {
  "kernelspec": {
   "display_name": "Python 3 (ipykernel)",
   "language": "python",
   "name": "python3"
  },
  "language_info": {
   "codemirror_mode": {
    "name": "ipython",
    "version": 3
   },
   "file_extension": ".py",
   "mimetype": "text/x-python",
   "name": "python",
   "nbconvert_exporter": "python",
   "pygments_lexer": "ipython3",
   "version": "3.12.7"
  }
 },
 "nbformat": 4,
 "nbformat_minor": 5
}
